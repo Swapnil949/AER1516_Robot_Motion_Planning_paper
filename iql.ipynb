{
 "cells": [
  {
   "cell_type": "code",
   "execution_count": 1,
   "metadata": {},
   "outputs": [],
   "source": [
    "import numpy as np\n",
    "import pandas as pd\n",
    "import matplotlib.pyplot as plt"
   ]
  },
  {
   "attachments": {},
   "cell_type": "markdown",
   "metadata": {},
   "source": [
    "### Intialization Values\n",
    " - Grid size\n",
    " - Goal\n",
    " - Starting Point\n",
    " - obstacles \n"
   ]
  },
  {
   "cell_type": "code",
   "execution_count": 2,
   "metadata": {},
   "outputs": [
    {
     "data": {
      "text/plain": [
       "'\\nobstacles = np.array([[3, 3], [2, 3], [4, 3], [6, 3], [7, 3], [5, 3],\\n                      [1, 6], [1, 5], [2, 5], [3, 5], [4, 5],\\n                      [5, 5], [6, 5], [7, 5]])\\n'"
      ]
     },
     "execution_count": 2,
     "metadata": {},
     "output_type": "execute_result"
    }
   ],
   "source": [
    "size = (8, 8)        # 8 rows 8 columns\n",
    "\n",
    "# goal has to be within the grid\n",
    "goal = (5, 6)        # goal state\n",
    "\n",
    "init = (1, 1)         # initial state\n",
    "\n",
    "# Obstacles\n",
    "obstacles = np.array([(2, 2), (3, 1), (1, 4), (3, 3), (2, 5), (6, 4),\n",
    "                      (5, 5), (6, 3), (6, 2), (5, 2)])\n",
    "obstacles = []\n",
    "\n",
    "\"\"\"\n",
    "obstacles = np.array([[3, 3], [2, 3], [4, 3], [6, 3], [7, 3], [5, 3],\n",
    "                      [1, 6], [1, 5], [2, 5], [3, 5], [4, 5],\n",
    "                      [5, 5], [6, 5], [7, 5]])\n",
    "\"\"\""
   ]
  },
  {
   "attachments": {},
   "cell_type": "markdown",
   "metadata": {},
   "source": [
    "### Q-Learning"
   ]
  },
  {
   "attachments": {},
   "cell_type": "markdown",
   "metadata": {},
   "source": [
    "### Improved Q-Learning\n",
    " - Discount factor $\\gamma$"
   ]
  },
  {
   "cell_type": "code",
   "execution_count": 3,
   "metadata": {},
   "outputs": [],
   "source": [
    "def manhattan_distance(x, y):\n",
    "    return np.abs(x[0] - y[0]) + np.abs(x[1] - y[1])"
   ]
  },
  {
   "cell_type": "code",
   "execution_count": 4,
   "metadata": {},
   "outputs": [],
   "source": [
    "def get_neighbors(state, size, obstacles):\n",
    "    neighbors = []\n",
    "    if state[0] > 0:\n",
    "        neighbors.append((state[0] - 1, state[1]))\n",
    "    if state[0] < size[0] - 1:\n",
    "        neighbors.append((state[0] + 1, state[1]))\n",
    "    if state[1] > 0:\n",
    "        neighbors.append((state[0], state[1] - 1))\n",
    "    if state[1] < size[1] - 1:\n",
    "        neighbors.append((state[0], state[1] + 1))\n",
    "\n",
    "\n",
    "    if len(obstacles) == 0:\n",
    "        return neighbors\n",
    "    \n",
    "    # if the neighbor is an obstacle, remove it from the list\n",
    "    neighbors_copy = neighbors.copy()\n",
    "    for neighbor in neighbors_copy:\n",
    "        if (obstacles == neighbor).all(axis=1).any():\n",
    "            neighbors.remove(neighbor)\n",
    "            \n",
    "    return neighbors"
   ]
  },
  {
   "cell_type": "code",
   "execution_count": 5,
   "metadata": {},
   "outputs": [],
   "source": [
    "def check_complete(l, obstacles):\n",
    "    flag = True\n",
    "    for i in range(l.shape[0]):\n",
    "        for j in range(l.shape[1]):\n",
    "            if len(obstacles) != 0:\n",
    "                if (obstacles == np.array([i, j])).all(axis=1).any():\n",
    "                    continue\n",
    "            if l[i, j] == 0:\n",
    "                flag = False\n",
    "                return flag\n",
    "\n",
    "    return flag\n"
   ]
  },
  {
   "cell_type": "code",
   "execution_count": 6,
   "metadata": {},
   "outputs": [
    {
     "name": "stdout",
     "output_type": "stream",
     "text": [
      "Initial state:  (1, 1)\n",
      "goal state:  (5, 6)\n",
      "[[ True  True  True  True  True  True  True  True]\n",
      " [ True  True  True  True  True  True  True  True]\n",
      " [ True  True  True  True  True  True  True  True]\n",
      " [ True  True  True  True  True  True  True  True]\n",
      " [ True  True  True  True  True  True  True  True]\n",
      " [ True  True  True  True  True  True  True  True]\n",
      " [ True  True  True  True  True  True  True  True]\n",
      " [ True  True  True  True  True  True  True  True]]\n",
      "[[  8.59  10.74  13.42  16.78  20.97  26.21  32.77  26.21]\n",
      " [ 10.74  13.42  16.78  20.97  26.21  32.77  40.96  32.77]\n",
      " [ 13.42  16.78  20.97  26.21  32.77  40.96  51.2   40.96]\n",
      " [ 16.78  20.97  26.21  32.77  40.96  51.2   64.    51.2 ]\n",
      " [ 20.97  26.21  32.77  40.96  51.2   64.    80.    64.  ]\n",
      " [ 26.21  32.77  40.96  51.2   64.    80.   100.    80.  ]\n",
      " [ 20.97  26.21  32.77  40.96  51.2   64.    80.    64.  ]\n",
      " [ 16.78  20.97  26.21  32.77  40.96  51.2   64.    51.2 ]]\n",
      "692\n"
     ]
    }
   ],
   "source": [
    "# matrix containing L and Q values for each state\n",
    "l = np.full(size, False)\n",
    "q = np.zeros(size)\n",
    "\n",
    "l[goal] = 1    # Lock variable matrix\n",
    "q [goal] = 100  # Reward matrix\n",
    "  \n",
    "discount_factor = 0.8       # Discount factor\n",
    "\n",
    "print(\"Initial state: \", init)\n",
    "print (\"goal state: \", goal)\n",
    "states = []\n",
    "states.append(goal)\n",
    "p = states[0]\n",
    "\n",
    "\n",
    "counter = 0\n",
    "while (True):\n",
    "    counter += 1\n",
    "    d_pg = manhattan_distance(p, goal)\n",
    "    neighbours = get_neighbors(p, size, obstacles)\n",
    "\n",
    "    for n in neighbours:\n",
    "        d_ng = manhattan_distance(n, goal)\n",
    "\n",
    "        if (d_ng < d_pg):\n",
    "            if l[n]:\n",
    "                q[p] = discount_factor * q[n]\n",
    "                l[p] = True\n",
    "            elif l[p]:\n",
    "                q[n] = q[p] / discount_factor\n",
    "                l[n] = True\n",
    "        elif (d_ng > d_pg):\n",
    "            if l[p]:\n",
    "                q[n] = discount_factor * q[p]\n",
    "                l[n] = True\n",
    "            elif l[n]:\n",
    "                q[p] = q[n] / discount_factor\n",
    "                l[p] = True \n",
    "\n",
    "        \n",
    "    rand = np.random.randint(0, len(neighbours))\n",
    "    p = neighbours[rand]\n",
    "    \n",
    "    if check_complete(l, obstacles):\n",
    "        break\n",
    "    if counter > 2000:\n",
    "        break\n",
    "\n",
    "np.set_printoptions(precision=3, suppress=True)\n",
    "print(l)\n",
    "print(np.round(q, 2))\n",
    "print(counter)\n",
    "np.savetxt(\"q.csv\", q, delimiter=\",\")"
   ]
  },
  {
   "attachments": {},
   "cell_type": "markdown",
   "metadata": {},
   "source": [
    "### Visualize Q table "
   ]
  },
  {
   "cell_type": "code",
   "execution_count": 10,
   "metadata": {},
   "outputs": [
    {
     "data": {
      "image/png": "[encoded data removed]",
      "text/plain": [
       "<Figure size 300x300 with 1 Axes>"
      ]
     },
     "metadata": {},
     "output_type": "display_data"
    }
   ],
   "source": [
    "fig = plt.figure(figsize=(3, 3))\n",
    "plt.imshow(q, cmap=\"hot\", interpolation='nearest')\n",
    "plt.xlim(0, size[1] - 1)\n",
    "plt.ylim(0, size[0] - 1)\n",
    "plt.xticks(np.arange(0, size[1], 1))\n",
    "plt.yticks(np.arange(0, size[0], 1))\n",
    "plt.grid(which='major', axis='both', linestyle='-', color='k', alpha=0.1)"
   ]
  },
  {
   "attachments": {},
   "cell_type": "markdown",
   "metadata": {},
   "source": [
    "### Path Planning"
   ]
  },
  {
   "cell_type": "code",
   "execution_count": 8,
   "metadata": {},
   "outputs": [],
   "source": [
    "path = []\n",
    "\n",
    "c = init\n",
    "path.append(c)\n",
    "while c != goal:\n",
    "    neighbours = get_neighbors(c, size, obstacles)\n",
    "\n",
    "    best_n = neighbours[0]\n",
    "    best_q = q[best_n]\n",
    "    for n in neighbours:\n",
    "        if q[n] > best_q:\n",
    "            best_q = q[n]\n",
    "            best_n = n\n",
    "    c = best_n\n",
    "    path.append(c)\n",
    "    "
   ]
  },
  {
   "attachments": {},
   "cell_type": "markdown",
   "metadata": {},
   "source": [
    "### Plot"
   ]
  },
  {
   "cell_type": "code",
   "execution_count": 11,
   "metadata": {},
   "outputs": [
    {
     "data": {
      "image/png": "[encoded data removed]",
      "text/plain": [
       "<Figure size 300x300 with 1 Axes>"
      ]
     },
     "metadata": {},
     "output_type": "display_data"
    }
   ],
   "source": [
    "fig = plt.figure(figsize=(3, 3))\n",
    "\n",
    "plt.scatter(np.array(path)[:, 1], np.array(path)[:, 0], c='g', marker=\".\", s=100)\n",
    "plt.scatter(goal[1], goal[0], c='r', s=100)\n",
    "plt.scatter(init[1], init[0], c='b', s=100)\n",
    "if len(obstacles) != 0:\n",
    "    plt.scatter(obstacles[:, 1], obstacles[:, 0], c='k', marker='s', s=499)\n",
    "plt.xlim(0, size[1] - 1)\n",
    "plt.ylim(0, size[0] - 1)\n",
    "plt.xticks(np.arange(0, size[1], 1))\n",
    "plt.yticks(np.arange(0, size[0], 1))\n",
    "plt.grid(which='major', axis='both', linestyle='-', color='k', alpha=0.1)\n",
    "#plt.tick_params(which='both', bottom=False, left=False, labelbottom=False, labelleft=False)\n"
   ]
  }
 ],
 "metadata": {
  "kernelspec": {
   "display_name": "Python 3",
   "language": "python",
   "name": "python3"
  },
  "language_info": {
   "codemirror_mode": {
    "name": "ipython",
    "version": 3
   },
   "file_extension": ".py",
   "mimetype": "text/x-python",
   "name": "python",
   "nbconvert_exporter": "python",
   "pygments_lexer": "ipython3",
   "version": "3.11.0"
  },
  "orig_nbformat": 4,
  "vscode": {
   "interpreter": {
    "hash": "5238573367df39f7286bb46f9ff5f08f63a01a80960060ce41e3c79b190280fa"
   }
  }
 },
 "nbformat": 4,
 "nbformat_minor": 2
}
