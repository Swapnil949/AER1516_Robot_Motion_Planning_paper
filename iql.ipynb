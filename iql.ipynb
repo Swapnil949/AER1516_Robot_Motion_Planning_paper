{
 "cells": [
  {
   "cell_type": "code",
   "execution_count": 1,
   "metadata": {},
   "outputs": [],
   "source": [
    "import numpy as np\n",
    "import pandas as pd\n",
    "import matplotlib.pyplot as plt"
   ]
  },
  {
   "attachments": {},
   "cell_type": "markdown",
   "metadata": {},
   "source": [
    "### Intialization Values\n",
    " - Grid size\n",
    " - Goal\n",
    " - Starting Point\n",
    " - obstacles \n"
   ]
  },
  {
   "cell_type": "code",
   "execution_count": 2,
   "metadata": {},
   "outputs": [
    {
     "data": {
      "text/plain": [
       "'\\nobstacles = np.array([[3, 3], [2, 3], [4, 3], [6, 3], [7, 3], [5, 3],\\n                      [1, 6], [1, 5], [2, 5], [3, 5], [4, 5],\\n                      [5, 5], [6, 5], [7, 5]])\\n'"
      ]
     },
     "execution_count": 2,
     "metadata": {},
     "output_type": "execute_result"
    }
   ],
   "source": [
    "size = np.array([8, 8])         # 8 rows 8 columns\n",
    "\n",
    "# goal has to be within the grid\n",
    "goal = np.array([5, 6])         # goal state\n",
    "\n",
    "init = np.array([1, 1])         # initial state\n",
    "\n",
    "# Obstacles\n",
    "obstacles = np.array([[2, 2], [3, 1], [1, 4], [3, 3], [2, 5], [6, 4],\n",
    "                      [5, 5], [6, 3], [6, 2], [5, 2]])\n",
    "\n",
    "\"\"\"\n",
    "obstacles = np.array([[3, 3], [2, 3], [4, 3], [6, 3], [7, 3], [5, 3],\n",
    "                      [1, 6], [1, 5], [2, 5], [3, 5], [4, 5],\n",
    "                      [5, 5], [6, 5], [7, 5]])\n",
    "\"\"\""
   ]
  },
  {
   "attachments": {},
   "cell_type": "markdown",
   "metadata": {},
   "source": [
    "### Q-Learning"
   ]
  },
  {
   "attachments": {},
   "cell_type": "markdown",
   "metadata": {},
   "source": [
    "### Improved Q-Learning\n",
    " - Discount factor $\\gamma$"
   ]
  },
  {
   "cell_type": "code",
   "execution_count": 3,
   "metadata": {},
   "outputs": [],
   "source": [
    "def manhattan_distance(x, y):\n",
    "    return np.abs(x[0] - y[0]) + np.abs(x[1] - y[1])"
   ]
  },
  {
   "cell_type": "code",
   "execution_count": 4,
   "metadata": {},
   "outputs": [],
   "source": [
    "def get_neighbors(state, size, obstacles):\n",
    "    neighbors = []\n",
    "    if state[0] > 0:\n",
    "        neighbors.append([state[0] - 1, state[1]])\n",
    "    if state[0] < size[0] - 1:\n",
    "        neighbors.append([state[0] + 1, state[1]])\n",
    "    if state[1] > 0:\n",
    "        neighbors.append([state[0], state[1] - 1])\n",
    "    if state[1] < size[1] - 1:\n",
    "        neighbors.append([state[0], state[1] + 1])\n",
    "\n",
    "    # if the neighbor is an obstacle, remove it from the list\n",
    "    neighbors_copy = neighbors.copy()\n",
    "    for neighbor in neighbors_copy:\n",
    "        if (obstacles == neighbor).all(axis=1).any():\n",
    "            neighbors.remove(neighbor)\n",
    "            \n",
    "    return neighbors"
   ]
  },
  {
   "cell_type": "code",
   "execution_count": 5,
   "metadata": {},
   "outputs": [],
   "source": [
    "def check_complete(l, obstacles):\n",
    "    flag = True\n",
    "    for i in range(l.shape[0]):\n",
    "        for j in range(l.shape[1]):\n",
    "            if (obstacles == np.array([i, j])).all(axis=1).any():\n",
    "                continue\n",
    "            if l[i, j] == 0:\n",
    "                flag = False\n",
    "                return flag\n",
    "\n",
    "    return flag\n"
   ]
  },
  {
   "cell_type": "code",
   "execution_count": 6,
   "metadata": {},
   "outputs": [
    {
     "name": "stdout",
     "output_type": "stream",
     "text": [
      "[[3, 5], [4, 4], [4, 6]]\n"
     ]
    }
   ],
   "source": [
    "# matrix containing L and Q values for each state\n",
    "l = np.zeros(size)\n",
    "q = np.zeros(size)\n",
    "\n",
    "l [goal[0], goal[1]] = 1    # Lock variable matrix\n",
    "q [goal[0], goal[1]] = 100  # Reward matrix\n",
    "  \n",
    "discount_factor = 0.5       # Discount factor\n",
    "\n",
    "print(get_neighbors(np.array([4 ,5]), size, obstacles))\n",
    "\n",
    "while (True):\n",
    "    neighbours = get_neighbors(init, size, obstacles)\n",
    "    if check_complete(l, obstacles):\n",
    "        break\n",
    "    \n",
    "    break\n"
   ]
  },
  {
   "attachments": {},
   "cell_type": "markdown",
   "metadata": {},
   "source": [
    "### Visualize Q table "
   ]
  },
  {
   "cell_type": "code",
   "execution_count": 7,
   "metadata": {},
   "outputs": [
    {
     "data": {
      "image/png": "[encoded data removed]",
      "text/plain": [
       "<Figure size 300x300 with 1 Axes>"
      ]
     },
     "metadata": {},
     "output_type": "display_data"
    }
   ],
   "source": [
    "data = [\n",
    "    [0.09765625, 0.1953125, 0.390625, 0.78125, 1.5625, 3.125, 1.5625, 0.78125],\n",
    "    [0.1953125, 0.390625, 0.78125, 1.5625, 3.125, 6.25, 3.125, 1.5625],\n",
    "    [0.390625, 0.78125, 1.5625, 3.125, 6.25, 12.5, 6.25, 3.125],\n",
    "    [0.78125, 1.5625, 3.125, 6.25, 12.5, 25, 12.5, 6.25],\n",
    "    [1.5625, 3.125, 6.25, 12.5, 25, 50, 25, 12.5],\n",
    "    [3.125, 6.25, 12.5, 25, 50, 100, 50, 25],\n",
    "    [1.5625, 3.125, 6.25, 12.5, 25, 50, 25, 12.5],\n",
    "    [0.78125, 1.5625, 3.125, 6.25, 12.5, 25, 12.5, 6.25]\n",
    "]\n",
    "\n",
    "arr = np.array(data)\n",
    "fig = plt.figure(figsize=(3, 3))\n",
    "plt.imshow(arr, cmap='hot', interpolation='nearest')\n",
    "plt.xlim(0, size[1] - 1)\n",
    "plt.ylim(0, size[0] - 1)\n",
    "plt.xticks(np.arange(0, size[1], 1))\n",
    "plt.yticks(np.arange(0, size[0], 1))\n",
    "plt.grid(which='major', axis='both', linestyle='-', color='k', alpha=0.1)"
   ]
  },
  {
   "attachments": {},
   "cell_type": "markdown",
   "metadata": {},
   "source": [
    "### Plot"
   ]
  },
  {
   "cell_type": "code",
   "execution_count": 8,
   "metadata": {},
   "outputs": [
    {
     "data": {
      "image/png": "[encoded data removed]",
      "text/plain": [
       "<Figure size 300x300 with 1 Axes>"
      ]
     },
     "metadata": {},
     "output_type": "display_data"
    }
   ],
   "source": [
    "fig = plt.figure(figsize=(3, 3))\n",
    "\n",
    "plt.scatter(goal[1], goal[0], c='r', s=100)\n",
    "plt.scatter(init[1], init[0], c='b', s=100)\n",
    "plt.scatter(obstacles[:, 1], obstacles[:, 0], c='k', marker='s', s=499)\n",
    "plt.xlim(0, size[1] - 1)\n",
    "plt.ylim(0, size[0] - 1)\n",
    "plt.xticks(np.arange(0, size[1], 1))\n",
    "plt.yticks(np.arange(0, size[0], 1))\n",
    "plt.grid(which='major', axis='both', linestyle='-', color='k', alpha=0.1)\n",
    "#plt.tick_params(which='both', bottom=False, left=False, labelbottom=False, labelleft=False)\n"
   ]
  }
 ],
 "metadata": {
  "kernelspec": {
   "display_name": "Python 3",
   "language": "python",
   "name": "python3"
  },
  "language_info": {
   "codemirror_mode": {
    "name": "ipython",
    "version": 3
   },
   "file_extension": ".py",
   "mimetype": "text/x-python",
   "name": "python",
   "nbconvert_exporter": "python",
   "pygments_lexer": "ipython3",
   "version": "3.11.0"
  },
  "orig_nbformat": 4,
  "vscode": {
   "interpreter": {
    "hash": "5238573367df39f7286bb46f9ff5f08f63a01a80960060ce41e3c79b190280fa"
   }
  }
 },
 "nbformat": 4,
 "nbformat_minor": 2
}
