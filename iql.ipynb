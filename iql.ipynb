{
 "cells": [
  {
   "cell_type": "code",
   "execution_count": null,
   "metadata": {},
   "outputs": [],
   "source": [
    "import numpy as np\n",
    "import pandas as pd\n",
    "import matplotlib.pyplot as plt"
   ]
  },
  {
   "attachments": {},
   "cell_type": "markdown",
   "metadata": {},
   "source": [
    "### Intialization Values\n",
    " - Grid size\n",
    " - Goal\n",
    " - Starting Point\n",
    " - obstacles \n"
   ]
  },
  {
   "cell_type": "code",
   "execution_count": null,
   "metadata": {},
   "outputs": [],
   "source": [
    "size = (8, 8)        # 8 rows 8 columns\n",
    "\n",
    "# goal has to be within the grid\n",
    "goal = (5, 6)        # goal state\n",
    "\n",
    "init = (1, 1)         # initial state\n",
    "\n",
    "# Obstacles\n",
    "\n",
    "#obstacles = []\n",
    "\n",
    "obstacles = np.array([[3, 3], [2, 3], [4, 3], [6, 3], [7, 3], [5, 3],\n",
    "                      [1, 6], [1, 5], [2, 5], [3, 5], [4, 5],\n",
    "                      [5, 5]])\n",
    "\n",
    "obstacles = np.array([(2, 2), (3, 1), (1, 4), (3, 3), (2, 5), (6, 4),\n",
    "                      (5, 5), (6, 3), (6, 2), (5, 2)])"
   ]
  },
  {
   "attachments": {},
   "cell_type": "markdown",
   "metadata": {},
   "source": [
    "### Q-Learning"
   ]
  },
  {
   "attachments": {},
   "cell_type": "markdown",
   "metadata": {},
   "source": [
    "### Improved Q-Learning\n",
    " - Discount factor $\\gamma$"
   ]
  },
  {
   "cell_type": "code",
   "execution_count": null,
   "metadata": {},
   "outputs": [],
   "source": [
    "def manhattan_distance(x, y):\n",
    "    return np.abs(x[0] - y[0]) + np.abs(x[1] - y[1])"
   ]
  },
  {
   "cell_type": "code",
   "execution_count": null,
   "metadata": {},
   "outputs": [],
   "source": [
    "def get_neighbors(state, size, obstacles):\n",
    "    neighbors = []\n",
    "    if state[0] > 0:\n",
    "        neighbors.append((state[0] - 1, state[1]))\n",
    "    if state[0] < size[0] - 1:\n",
    "        neighbors.append((state[0] + 1, state[1]))\n",
    "    if state[1] > 0:\n",
    "        neighbors.append((state[0], state[1] - 1))\n",
    "    if state[1] < size[1] - 1:\n",
    "        neighbors.append((state[0], state[1] + 1))\n",
    "\n",
    "\n",
    "    if len(obstacles) == 0:\n",
    "        return neighbors\n",
    "    \n",
    "    # if the neighbor is an obstacle, remove it from the list\n",
    "    neighbors_copy = neighbors.copy()\n",
    "    for neighbor in neighbors_copy:\n",
    "        if (obstacles == neighbor).all(axis=1).any():\n",
    "            neighbors.remove(neighbor)\n",
    "            \n",
    "    return neighbors"
   ]
  },
  {
   "cell_type": "code",
   "execution_count": null,
   "metadata": {},
   "outputs": [],
   "source": [
    "def check_complete(l, obstacles):\n",
    "    flag = True\n",
    "    for i in range(l.shape[0]):\n",
    "        for j in range(l.shape[1]):\n",
    "            if len(obstacles) != 0:\n",
    "                if (obstacles == np.array([i, j])).all(axis=1).any():\n",
    "                    continue\n",
    "            if l[i, j] == 0:\n",
    "                flag = False\n",
    "                return flag\n",
    "\n",
    "    return flag\n"
   ]
  },
  {
   "cell_type": "code",
   "execution_count": null,
   "metadata": {},
   "outputs": [],
   "source": [
    "# matrix containing L and Q values for each state\n",
    "l = np.full(size, False)\n",
    "q = np.zeros(size)\n",
    "\n",
    "l[goal] = 1    # Lock variable matrix\n",
    "q [goal] = 100  # Reward matrix\n",
    "  \n",
    "discount_factor = 0.8       # Discount factor\n",
    "\n",
    "print(\"Initial state: \", init)\n",
    "print (\"goal state: \", goal)\n",
    "states = []\n",
    "states.append(goal)\n",
    "p = states[0]\n",
    "\n",
    "\n",
    "counter = 0\n",
    "while (True):\n",
    "    counter += 1\n",
    "    d_pg = manhattan_distance(p, goal)\n",
    "    neighbours = get_neighbors(p, size, obstacles)\n",
    "\n",
    "    for n in neighbours:\n",
    "        d_ng = manhattan_distance(n, goal)\n",
    "\n",
    "        if (d_ng < d_pg):\n",
    "            if l[n]:\n",
    "                q[p] = discount_factor * q[n]\n",
    "                l[p] = True\n",
    "            elif l[p]:\n",
    "                q[n] = q[p] / discount_factor\n",
    "                l[n] = True\n",
    "        elif (d_ng > d_pg):\n",
    "            if l[p]:\n",
    "                q[n] = discount_factor * q[p]\n",
    "                l[n] = True\n",
    "            elif l[n]:\n",
    "                q[p] = q[n] / discount_factor\n",
    "                l[p] = True \n",
    "\n",
    "    \"\"\"\n",
    "    For now, we will randomly select next neighbour.\n",
    "    This is sufficient for the algorithm validation.\n",
    "    However, some other more sophisticated methods can be used to \n",
    "    select the next neighbour to improve the performance. \n",
    "    \"\"\"\n",
    "    rand = np.random.randint(0, len(neighbours))\n",
    "    p = neighbours[rand]\n",
    "    \n",
    "    if check_complete(l, obstacles):\n",
    "        break\n",
    "    if counter > 2000:\n",
    "        break\n",
    "\n",
    "# save Q matrix to a csv file for later analysis\n",
    "np.savetxt(\"q.csv\", q, delimiter=\",\")\n",
    "q_df = pd.DataFrame(q).round(2)\n",
    "print(\"Q matrix: \")\n",
    "print(q_df)"
   ]
  },
  {
   "attachments": {},
   "cell_type": "markdown",
   "metadata": {},
   "source": [
    "### Visualize Q table "
   ]
  },
  {
   "cell_type": "code",
   "execution_count": null,
   "metadata": {},
   "outputs": [],
   "source": [
    "fig = plt.figure(figsize=(5, 5))\n",
    "plt.imshow(q, cmap=\"hot\", interpolation='nearest')\n",
    "plt.xlim(0, size[1] - 1)\n",
    "plt.ylim(0, size[0] - 1)\n",
    "plt.xticks(np.arange(0, size[1], 1))\n",
    "plt.yticks(np.arange(0, size[0], 1))\n",
    "plt.grid(which='major', axis='both', linestyle='-', color='k', alpha=0.1)\n",
    "plt.savefig(\"./images/q.png\")"
   ]
  },
  {
   "attachments": {},
   "cell_type": "markdown",
   "metadata": {},
   "source": [
    "### Path Planning"
   ]
  },
  {
   "cell_type": "code",
   "execution_count": null,
   "metadata": {},
   "outputs": [],
   "source": [
    "path = []\n",
    "\n",
    "c = init\n",
    "path.append(c)\n",
    "while c != goal:\n",
    "    neighbours = get_neighbors(c, size, obstacles)\n",
    "\n",
    "    best_n = neighbours[0]\n",
    "    best_q = q[best_n]\n",
    "    for n in neighbours:\n",
    "        if q[n] >= best_q:\n",
    "            best_q = q[n]\n",
    "            best_n = n\n",
    "    c = best_n\n",
    "    path.append(c)\n",
    "    "
   ]
  },
  {
   "attachments": {},
   "cell_type": "markdown",
   "metadata": {},
   "source": [
    "### Plot"
   ]
  },
  {
   "cell_type": "code",
   "execution_count": null,
   "metadata": {},
   "outputs": [],
   "source": [
    "fig = plt.figure(figsize=(5, 5))\n",
    "\n",
    "plt.plot(np.array(path)[:, 1], np.array(path)[:, 0])\n",
    "plt.scatter(goal[1], goal[0], c='r', s=100)\n",
    "plt.scatter(init[1], init[0], c='b', s=100)\n",
    "if len(obstacles) != 0:\n",
    "    plt.scatter(obstacles[:, 1], obstacles[:, 0], c='k', marker='s', s=1600)\n",
    "plt.xlim(0, size[1] - 1)\n",
    "plt.ylim(0, size[0] - 1)\n",
    "plt.xticks(np.arange(0, size[1], 1))\n",
    "plt.yticks(np.arange(0, size[0], 1))\n",
    "plt.grid(which='major', axis='both', linestyle='-', color='k', alpha=0.1)\n",
    "#plt.tick_params(which='both', bottom=False, left=False, labelbottom=False, labelleft=False)\n",
    "plt.savefig(\"./images/path.png\")\n"
   ]
  }
 ],
 "metadata": {
  "kernelspec": {
   "display_name": "Python 3",
   "language": "python",
   "name": "python3"
  },
  "language_info": {
   "codemirror_mode": {
    "name": "ipython",
    "version": 3
   },
   "file_extension": ".py",
   "mimetype": "text/x-python",
   "name": "python",
   "nbconvert_exporter": "python",
   "pygments_lexer": "ipython3",
   "version": "3.11.0"
  },
  "orig_nbformat": 4,
  "vscode": {
   "interpreter": {
    "hash": "5238573367df39f7286bb46f9ff5f08f63a01a80960060ce41e3c79b190280fa"
   }
  }
 },
 "nbformat": 4,
 "nbformat_minor": 2
}
